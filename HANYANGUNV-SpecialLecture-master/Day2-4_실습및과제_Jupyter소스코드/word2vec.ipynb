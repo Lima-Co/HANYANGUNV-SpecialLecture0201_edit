{
 "cells": [
  {
   "cell_type": "code",
   "execution_count": 3,
   "metadata": {},
   "outputs": [
    {
     "ename": "NameError",
     "evalue": "name 'emma_raw' is not defined",
     "output_type": "error",
     "traceback": [
      "\u001b[1;31m---------------------------------------------------------------------------\u001b[0m",
      "\u001b[1;31mNameError\u001b[0m                                 Traceback (most recent call last)",
      "\u001b[1;32m<ipython-input-3-dc47239437b0>\u001b[0m in \u001b[0;36m<module>\u001b[1;34m\u001b[0m\n\u001b[0;32m      2\u001b[0m \u001b[1;32mfrom\u001b[0m \u001b[0mnltk\u001b[0m\u001b[1;33m.\u001b[0m\u001b[0mtokenize\u001b[0m \u001b[1;32mimport\u001b[0m \u001b[0mword_tokenize\u001b[0m\u001b[1;33m\u001b[0m\u001b[0m\n\u001b[0;32m      3\u001b[0m \u001b[1;31m# 자연어처리를 통해 명사만 추출한 파일을 사용하여 트레이닝 한다\u001b[0m\u001b[1;33m\u001b[0m\u001b[1;33m\u001b[0m\u001b[0m\n\u001b[1;32m----> 4\u001b[1;33m \u001b[0mwords\u001b[0m\u001b[1;33m=\u001b[0m\u001b[0mword_tokenize\u001b[0m\u001b[1;33m(\u001b[0m\u001b[0memma_raw\u001b[0m\u001b[1;33m)\u001b[0m\u001b[1;33m\u001b[0m\u001b[0m\n\u001b[0m\u001b[0;32m      5\u001b[0m \u001b[0mtagged\u001b[0m\u001b[1;33m=\u001b[0m\u001b[0mnltk\u001b[0m\u001b[1;33m.\u001b[0m\u001b[0mpos_tag\u001b[0m\u001b[1;33m(\u001b[0m\u001b[0mwords\u001b[0m\u001b[1;33m)\u001b[0m\u001b[1;33m\u001b[0m\u001b[0m\n\u001b[0;32m      6\u001b[0m \u001b[0mallnoun\u001b[0m \u001b[1;33m=\u001b[0m \u001b[1;33m[\u001b[0m\u001b[0mword\u001b[0m \u001b[1;32mfor\u001b[0m \u001b[0mword\u001b[0m\u001b[1;33m,\u001b[0m \u001b[0mpos\u001b[0m \u001b[1;32min\u001b[0m \u001b[0mtagged\u001b[0m \u001b[1;32mif\u001b[0m \u001b[0mpos\u001b[0m \u001b[1;32min\u001b[0m \u001b[1;33m[\u001b[0m\u001b[1;34m'NN'\u001b[0m\u001b[1;33m,\u001b[0m \u001b[1;34m'NNP'\u001b[0m\u001b[1;33m]\u001b[0m\u001b[1;33m]\u001b[0m\u001b[1;33m\u001b[0m\u001b[0m\n",
      "\u001b[1;31mNameError\u001b[0m: name 'emma_raw' is not defined"
     ]
    }
   ],
   "source": [
    "from gensim.models import word2vec\n",
    "# 자연어처리를 통해 명사만 추출한 파일을 사용하여 트레이닝 한다\n",
    "sents = word2vec.Text8Corpus(\"Full_nouns2.txt\")\n",
    "model = word2vec.Word2Vec(sents,size=16,window=5,min_count=10,\n",
    "                          sg=1,hs=1,iter=500,workers=4)"
   ]
  },
  {
   "cell_type": "code",
   "execution_count": 3,
   "metadata": {},
   "outputs": [
    {
     "name": "stdout",
     "output_type": "stream",
     "text": [
      "Word2Vec(vocab=482, size=16, alpha=0.025)\n"
     ]
    }
   ],
   "source": [
    "# 트레이닝한 모델을 출력하기\n",
    "print (model)"
   ]
  },
  {
   "cell_type": "code",
   "execution_count": 4,
   "metadata": {},
   "outputs": [
    {
     "name": "stdout",
     "output_type": "stream",
     "text": [
      "Saved Model\n"
     ]
    }
   ],
   "source": [
    "# 트레이닝한 모델을 저장하기\n",
    "model.save(u\"fullnoun2.model\")\n",
    "print (\"Saved Model\")"
   ]
  },
  {
   "cell_type": "code",
   "execution_count": 5,
   "metadata": {},
   "outputs": [
    {
     "name": "stdout",
     "output_type": "stream",
     "text": [
      "Word2Vec(vocab=482, size=16, alpha=0.025)\n",
      "Model Loaded!\n"
     ]
    }
   ],
   "source": [
    "# 트레이닝한 모델을 불러오기\n",
    "model =word2vec.Word2Vec.load('fullnoun2.model')\n",
    "print (model)\n",
    "print (\"Model Loaded!\")"
   ]
  },
  {
   "cell_type": "code",
   "execution_count": 6,
   "metadata": {},
   "outputs": [
    {
     "name": "stdout",
     "output_type": "stream",
     "text": [
      "0.35453117\n"
     ]
    }
   ],
   "source": [
    "# 【두개 키워드의 유사도 계산하기】\n",
    "try:\n",
    "    y1 = model.wv.similarity(\"Emma\", \"Taylor\")\n",
    "except KeyError:\n",
    "    y1 = 0\n",
    "print(y1)"
   ]
  },
  {
   "cell_type": "code",
   "execution_count": 7,
   "metadata": {},
   "outputs": [
    {
     "name": "stdout",
     "output_type": "stream",
     "text": [
      "('Mr.', 0.838850736618042)\n",
      "('way', 0.8040221929550171)\n",
      "('thing', 0.765104353427887)\n",
      "('manner', 0.762338399887085)\n",
      "('Woodhouse', 0.7601190805435181)\n"
     ]
    },
    {
     "name": "stderr",
     "output_type": "stream",
     "text": [
      "c:\\test\\lib\\site-packages\\ipykernel_launcher.py:2: DeprecationWarning: Call to deprecated `most_similar` (Method will be removed in 4.0.0, use self.wv.most_similar() instead).\n",
      "  \n"
     ]
    }
   ],
   "source": [
    "# 【지정 키워드와 유사도가 제일 높은 5개 단어】\n",
    "y2 = model.most_similar(\"Emma\", topn=5)\n",
    "for item in y2:\n",
    "    print(item)"
   ]
  },
  {
   "cell_type": "code",
   "execution_count": 8,
   "metadata": {},
   "outputs": [
    {
     "name": "stdout",
     "output_type": "stream",
     "text": [
      "('Woodhouse', 0.8046920895576477)\n",
      "('way', 0.782825767993927)\n",
      "('friend', 0.7357735633850098)\n",
      "('father', 0.7255865335464478)\n",
      "('half', 0.6847032308578491)\n"
     ]
    },
    {
     "name": "stderr",
     "output_type": "stream",
     "text": [
      "c:\\test\\lib\\site-packages\\ipykernel_launcher.py:2: DeprecationWarning: Call to deprecated `most_similar` (Method will be removed in 4.0.0, use self.wv.most_similar() instead).\n",
      "  \n"
     ]
    }
   ],
   "source": [
    "# 【두개 키워드와 유사도가 제일 높은 5개 단어】\n",
    "y3 = model.most_similar(['Emma', 'Taylor'], topn=5)\n",
    "for item in y3:\n",
    "    print(item)"
   ]
  },
  {
   "cell_type": "code",
   "execution_count": 18,
   "metadata": {},
   "outputs": [
    {
     "name": "stdout",
     "output_type": "stream",
     "text": [
      "Word2Vec(vocab=90, size=16, alpha=0.025)\n",
      "Saved Model\n"
     ]
    }
   ],
   "source": [
    "#[선택:한국어 model 트레이닝하기]\n",
    "from gensim.models import word2vec\n",
    "import multiprocessing\n",
    "\n",
    "sentences = word2vec.Text8Corpus(\"Full_nouns.txt\")\n",
    "model = word2vec.Word2Vec(sentences,size=16, window=5,\n",
    "                          min_count=5,sg=1, hs=1, iter=100,\n",
    "                          workers=multiprocessing.cpu_count())\n",
    "print (model)\n",
    "model.save(\"fullnoun.model\")\n",
    "print (\"Saved Model\")"
   ]
  },
  {
   "cell_type": "code",
   "execution_count": 19,
   "metadata": {},
   "outputs": [
    {
     "name": "stdout",
     "output_type": "stream",
     "text": [
      "Word2Vec(vocab=90, size=16, alpha=0.025)\n",
      "Model Loaded!\n",
      "\n",
      "\n",
      "[국민]와[대한민국]의 유사도는:\n",
      "0.6233816\n",
      "\n",
      "[국민]와 유사도가 높은 단어 5개:\n",
      "권리\n",
      "0.8839979767799377\n",
      "보호\n",
      "0.8418146371841431\n",
      "자유\n",
      "0.8375788927078247\n",
      "의무\n",
      "0.8344845771789551\n",
      "보장\n",
      "0.8214678168296814\n",
      "\n",
      "[대한민국]&[헌법]와 유사도가 높은 단어 5개:\n",
      "안전보장\n",
      "0.8102847337722778\n",
      "조약\n",
      "0.6545660495758057\n",
      "중대한\n",
      "0.6496610045433044\n",
      "의무\n",
      "0.6421135067939758\n",
      "국민\n",
      "0.6366402506828308\n"
     ]
    },
    {
     "name": "stderr",
     "output_type": "stream",
     "text": [
      "c:\\test\\lib\\site-packages\\ipykernel_launcher.py:19: DeprecationWarning: Call to deprecated `most_similar` (Method will be removed in 4.0.0, use self.wv.most_similar() instead).\n",
      "c:\\test\\lib\\site-packages\\ipykernel_launcher.py:28: DeprecationWarning: Call to deprecated `most_similar` (Method will be removed in 4.0.0, use self.wv.most_similar() instead).\n"
     ]
    }
   ],
   "source": [
    "#[선택:한국어 model 유사도 구하기]\n",
    "\n",
    "# Load trained model\n",
    "model =word2vec.Word2Vec.load('fullnoun.model')\n",
    "print (model)\n",
    "print (\"Model Loaded!\\n\")\n",
    "\n",
    "\n",
    "# 【두개 키워드의 유사도 계산하기】\n",
    "try:\n",
    "    y1 = model.wv.similarity(u\"국민\", u\"대한민국\")\n",
    "except KeyError:\n",
    "    y1 = 0\n",
    "print(u\"\\n[국민]와[대한민국]의 유사도는:\")\n",
    "print(y1)\n",
    "\n",
    "\n",
    "# 【키워드와 유사도가 제일 높은 5개 단어】\n",
    "y2 = model.most_similar(u\"국민\", topn=5)\n",
    "print(u\"\\n[국민]와 유사도가 높은 단어 5개:\")\n",
    "\n",
    "for item in y2:\n",
    "    print(item[0])\n",
    "    print(item[1])\n",
    "\n",
    "\n",
    "# 【두개 키워드와 유사도가 제일 높은 5개 단어】\n",
    "y3 = model.most_similar([u'대한민국', u'헌법'], topn=5)\n",
    "print(u\"\\n[대한민국]&[헌법]와 유사도가 높은 단어 5개:\")\n",
    "for item in y3:\n",
    "    print(item[0])\n",
    "    print(item[1])"
   ]
  },
  {
   "cell_type": "code",
   "execution_count": null,
   "metadata": {},
   "outputs": [],
   "source": []
  }
 ],
 "metadata": {
  "kernelspec": {
   "display_name": "Python 3",
   "language": "python",
   "name": "python3"
  },
  "language_info": {
   "codemirror_mode": {
    "name": "ipython",
    "version": 3
   },
   "file_extension": ".py",
   "mimetype": "text/x-python",
   "name": "python",
   "nbconvert_exporter": "python",
   "pygments_lexer": "ipython3",
   "version": "3.5.4"
  }
 },
 "nbformat": 4,
 "nbformat_minor": 2
}

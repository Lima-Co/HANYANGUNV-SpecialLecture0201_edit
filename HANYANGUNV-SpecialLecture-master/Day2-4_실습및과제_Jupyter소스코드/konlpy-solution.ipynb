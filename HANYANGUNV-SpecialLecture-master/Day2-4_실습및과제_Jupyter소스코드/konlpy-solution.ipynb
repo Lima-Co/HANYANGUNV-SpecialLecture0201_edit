{
 "cells": [
  {
   "cell_type": "code",
   "execution_count": 9,
   "metadata": {},
   "outputs": [],
   "source": [
    "# [konlpy 과제 부분입니다]\n",
    "from konlpy.corpus import kolaw\n",
    "from konlpy.tag import Hannanum\n",
    "\n",
    "m = open('Full.txt','w',encoding=('UTF-8'))\n",
    "p = open('konlpy-pos.txt','w',encoding=('UTF-8'))\n",
    "n = open('Full_nouns.txt','w',encoding=('UTF-8'))\n",
    "\n",
    "h = Hannanum()\n",
    "doc = kolaw.open('constitution.txt').read()\n",
    "\n",
    "# [1.morphs()] 의미 있는 단어로 형태소 분리\n",
    "morphs=h.morphs(doc)\n",
    "for x in morphs:\n",
    "    m.write(x)\n",
    "    m.write('\\n')\n",
    "    \n",
    "# [2.pos():]품사를 표시\n",
    "pos=h.pos(doc)\n",
    "for y in pos:\n",
    "    p.write(y[0])\n",
    "    p.write(' ')\n",
    "    p.write(y[1])\n",
    "    p.write('\\n')\n",
    "    \n",
    "# [3.nouns()]명사만 추출하기\n",
    "nouns = h.nouns(doc)\n",
    "for z in nouns:\n",
    "    n.write(z)\n",
    "    n.write('\\n')"
   ]
  },
  {
   "cell_type": "code",
   "execution_count": 6,
   "metadata": {},
   "outputs": [
    {
     "name": "stdout",
     "output_type": "stream",
     "text": [
      "[(('의', 'J'), 396), (('.', 'S'), 340), (('하', 'X'), 291), (('에', 'J'), 283), (('ㄴ다', 'E'), 241)]\n"
     ]
    }
   ],
   "source": [
    "# (선택) 출현 횟수가 높은 단어 출력하기\n",
    "from collections import Counter\n",
    "from konlpy.corpus import kolaw\n",
    "from konlpy.tag import Hannanum\n",
    "doc = kolaw.open('constitution.txt').read()\n",
    "pos = Hannanum().pos(doc)\n",
    "cnt = Counter(pos)\n",
    "print(cnt.most_common(5))"
   ]
  },
  {
   "cell_type": "code",
   "execution_count": 7,
   "metadata": {},
   "outputs": [
    {
     "name": "stdout",
     "output_type": "stream",
     "text": [
      "[{'size': 345, 'color': (89, 160, 14), 'tag': '법률'}, {'size': 273, 'color': (84, 180, 94), 'tag': '수'}, {'size': 234, 'color': (119, 86, 51), 'tag': '①'}, {'size': 165, 'color': (19, 101, 151), 'tag': '때'}, {'size': 159, 'color': (80, 161, 158), 'tag': '국회'}, {'size': 153, 'color': (221, 102, 55), 'tag': '국민'}, {'size': 150, 'color': (85, 188, 203), 'tag': '대통령'}, {'size': 111, 'color': (61, 204, 101), 'tag': '바'}, {'size': 108, 'color': (96, 183, 64), 'tag': '국가'}, {'size': 93, 'color': (219, 64, 147), 'tag': '헌법'}, {'size': 90, 'color': (224, 181, 152), 'tag': '필요'}, {'size': 78, 'color': (102, 110, 146), 'tag': '기타'}, {'size': 69, 'color': (176, 115, 239), 'tag': '이'}, {'size': 60, 'color': (229, 127, 158), 'tag': '사항'}, {'size': 60, 'color': (181, 214, 81), 'tag': '권리'}, {'size': 57, 'color': (102, 251, 188), 'tag': '자유'}, {'size': 57, 'color': (66, 148, 134), 'tag': '임명'}, {'size': 54, 'color': (170, 199, 149), 'tag': '정부'}, {'size': 54, 'color': (108, 147, 200), 'tag': '이상'}, {'size': 51, 'color': (237, 250, 170), 'tag': '경우'}, {'size': 51, 'color': (33, 129, 61), 'tag': '의무'}, {'size': 51, 'color': (93, 97, 21), 'tag': '의결'}, {'size': 48, 'color': (12, 226, 131), 'tag': '임기'}, {'size': 39, 'color': (250, 185, 28), 'tag': '공무원'}, {'size': 39, 'color': (224, 162, 107), 'tag': '노력'}, {'size': 36, 'color': (152, 235, 194), 'tag': '찬성'}, {'size': 36, 'color': (222, 50, 248), 'tag': '국회의원'}, {'size': 36, 'color': (77, 241, 28), 'tag': '국무위원'}, {'size': 36, 'color': (62, 5, 201), 'tag': '보호'}, {'size': 33, 'color': (212, 0, 58), 'tag': '보장'}, {'size': 33, 'color': (223, 89, 89), 'tag': '법관'}, {'size': 33, 'color': (249, 113, 165), 'tag': '과반수'}, {'size': 33, 'color': (49, 250, 63), 'tag': '국무총리'}, {'size': 33, 'color': (71, 0, 34), 'tag': '요구'}, {'size': 33, 'color': (145, 227, 218), 'tag': '대통령의'}, {'size': 33, 'color': (77, 240, 115), 'tag': '자'}, {'size': 30, 'color': (35, 6, 240), 'tag': '조약'}, {'size': 27, 'color': (14, 233, 72), 'tag': '심판'}, {'size': 27, 'color': (69, 153, 238), 'tag': '국회재적의원'}, {'size': 27, 'color': (43, 214, 18), 'tag': '효력'}, {'size': 27, 'color': (213, 33, 186), 'tag': '동의'}, {'size': 27, 'color': (228, 42, 45), 'tag': '법원'}, {'size': 24, 'color': (205, 129, 180), 'tag': '구성'}, {'size': 24, 'color': (62, 103, 92), 'tag': '법률안'}, {'size': 24, 'color': (206, 156, 77), 'tag': '대법원장'}, {'size': 24, 'color': (160, 113, 236), 'tag': '대한민국'}, {'size': 24, 'color': (245, 118, 1), 'tag': '인정'}, {'size': 24, 'color': (189, 163, 1), 'tag': '제출'}, {'size': 21, 'color': (228, 196, 62), 'tag': '공포'}, {'size': 21, 'color': (212, 84, 12), 'tag': '처분'}]\n"
     ]
    }
   ],
   "source": [
    "# (선택) 단어를 워드클라우드로 그리기\n",
    "from collections import Counter\n",
    "from konlpy.corpus import kolaw\n",
    "from konlpy.tag import Hannanum\n",
    "import webbrowser\n",
    "import random\n",
    "import pytagcloud # requires Korean font support\n",
    "\n",
    "# 색갈을 랜덤으로 생성\n",
    "r = lambda: random.randint(0,255)\n",
    "color = lambda: (r(), r(), r())\n",
    "\n",
    "# 형태소분석을 통해 명사만 추출\n",
    "def get_tags(text, ntags=50, multiplier=3):\n",
    "    h = Hannanum()\n",
    "    nouns = h.nouns(text)\n",
    "    count = Counter(nouns)\n",
    "    # 워드클라우드에 출현횟수가 많은 단어일수록 사이즈를 크게 설정한다.\n",
    "    return [{ 'color': color(), 'tag': n, 'size': c*multiplier }\\\n",
    "                for n, c in count.most_common(ntags)]\n",
    "\n",
    "# 워드클라우드 생성\n",
    "def draw_cloud(tags, filename, fontname='Noto Sans CJK', size=(1280, 720)):\n",
    "    pytagcloud.create_tag_image(tags, filename, fontname=fontname, size=size)\n",
    "    webbrowser.open(filename)\n",
    "\n",
    "doc = kolaw.open('constitution.txt').read()\n",
    "tags = get_tags(doc)\n",
    "print(tags)\n",
    "draw_cloud(tags, 'wordcloud.png')"
   ]
  },
  {
   "cell_type": "code",
   "execution_count": null,
   "metadata": {},
   "outputs": [],
   "source": []
  }
 ],
 "metadata": {
  "kernelspec": {
   "display_name": "Python 3",
   "language": "python",
   "name": "python3"
  },
  "language_info": {
   "codemirror_mode": {
    "name": "ipython",
    "version": 3
   },
   "file_extension": ".py",
   "mimetype": "text/x-python",
   "name": "python",
   "nbconvert_exporter": "python",
   "pygments_lexer": "ipython3",
   "version": "3.5.4"
  }
 },
 "nbformat": 4,
 "nbformat_minor": 2
}

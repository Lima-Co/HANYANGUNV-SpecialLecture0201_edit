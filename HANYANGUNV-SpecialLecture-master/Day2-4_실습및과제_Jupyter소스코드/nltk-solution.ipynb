{
 "cells": [
  {
   "cell_type": "code",
   "execution_count": 1,
   "metadata": {},
   "outputs": [],
   "source": [
    "import nltk\n",
    "#from nltk.corpus get novel data\n",
    "emma_raw = nltk.corpus.gutenberg.raw(\"austen-emma.txt\")"
   ]
  },
  {
   "cell_type": "code",
   "execution_count": 2,
   "metadata": {},
   "outputs": [],
   "source": [
    "#[1.Tokenizing] tokenize novel data to words\n",
    "from nltk.tokenize import word_tokenize\n",
    "words=word_tokenize(emma_raw)\n",
    "w = open('nltk-word.txt','w')\n",
    "for x in words:\n",
    "    w.write(x)\n",
    "    w.write('\\n')"
   ]
  },
  {
   "cell_type": "code",
   "execution_count": 3,
   "metadata": {},
   "outputs": [],
   "source": [
    "#[2.Tagging] pos tagging\n",
    "tagged=nltk.pos_tag(words)\n",
    "t = open('nltk-tag.txt','w')\n",
    "for x in tagged:\n",
    "    t.write(x[0])\n",
    "    t.write(' ')\n",
    "    t.write(x[1])\n",
    "    t.write('\\n')"
   ]
  },
  {
   "cell_type": "code",
   "execution_count": 2,
   "metadata": {},
   "outputs": [
    {
     "ename": "NameError",
     "evalue": "name 'tagged' is not defined",
     "output_type": "error",
     "traceback": [
      "\u001b[1;31m---------------------------------------------------------------------------\u001b[0m",
      "\u001b[1;31mNameError\u001b[0m                                 Traceback (most recent call last)",
      "\u001b[1;32m<ipython-input-2-28784b88c393>\u001b[0m in \u001b[0;36m<module>\u001b[1;34m\u001b[0m\n\u001b[0;32m      1\u001b[0m \u001b[1;31m#[3.Extract noun] collect noun in all tagged words\u001b[0m\u001b[1;33m\u001b[0m\u001b[1;33m\u001b[0m\u001b[0m\n\u001b[1;32m----> 2\u001b[1;33m \u001b[0mallnoun\u001b[0m \u001b[1;33m=\u001b[0m \u001b[1;33m[\u001b[0m\u001b[0mword\u001b[0m \u001b[1;32mfor\u001b[0m \u001b[0mword\u001b[0m\u001b[1;33m,\u001b[0m \u001b[0mpos\u001b[0m \u001b[1;32min\u001b[0m \u001b[0mtagged\u001b[0m \u001b[1;32mif\u001b[0m \u001b[0mpos\u001b[0m \u001b[1;32min\u001b[0m \u001b[1;33m[\u001b[0m\u001b[1;34m'NN'\u001b[0m\u001b[1;33m,\u001b[0m \u001b[1;34m'NNP'\u001b[0m\u001b[1;33m]\u001b[0m\u001b[1;33m]\u001b[0m\u001b[1;33m\u001b[0m\u001b[0m\n\u001b[0m\u001b[0;32m      3\u001b[0m \u001b[1;33m\u001b[0m\u001b[0m\n\u001b[0;32m      4\u001b[0m \u001b[1;31m#write all noun in txt\u001b[0m\u001b[1;33m\u001b[0m\u001b[1;33m\u001b[0m\u001b[0m\n\u001b[0;32m      5\u001b[0m \u001b[0mg\u001b[0m \u001b[1;33m=\u001b[0m \u001b[0mopen\u001b[0m\u001b[1;33m(\u001b[0m\u001b[1;34m'Full_nouns2.txt'\u001b[0m\u001b[1;33m,\u001b[0m\u001b[1;34m'w'\u001b[0m\u001b[1;33m)\u001b[0m\u001b[1;33m\u001b[0m\u001b[0m\n",
      "\u001b[1;31mNameError\u001b[0m: name 'tagged' is not defined"
     ]
    }
   ],
   "source": [
    "#[3.Extract noun] collect noun in all tagged words\n",
    "allnoun = [word for word, pos in tagged if pos in ['NN', 'NNP']]\n",
    "\n",
    "#write all noun in txt\n",
    "g = open('Full_nouns2.txt','w')\n",
    "for x in allnoun:\n",
    "    g.write(x)\n",
    "    g.write('\\n')\n",
    "\n",
    "print('Done!')"
   ]
  },
  {
   "cell_type": "code",
   "execution_count": 11,
   "metadata": {},
   "outputs": [
    {
     "data": {
      "image/png": "[encoded data removed]",
      "text/plain": [
       "<Figure size 432x288 with 1 Axes>"
      ]
     },
     "metadata": {
      "needs_background": "light"
     },
     "output_type": "display_data"
    }
   ],
   "source": [
    "# (선택) 빈도 높은 단어 10개 그래프로 그리기\n",
    "from nltk.tokenize import RegexpTokenizer\n",
    "from nltk import Text\n",
    "import matplotlib.pyplot as plt\n",
    "retokenize = RegexpTokenizer(\"[\\w]+\")\n",
    "text = Text(retokenize.tokenize(emma_raw), name=\"Emma\")\n",
    "text.plot(10)\n",
    "plt.show()"
   ]
  },
  {
   "cell_type": "code",
   "execution_count": 16,
   "metadata": {},
   "outputs": [
    {
     "name": "stdout",
     "output_type": "stream",
     "text": [
      "7863 830 0.10555767518758744\n"
     ]
    }
   ],
   "source": [
    "# (선택) 출현 횟수가 높은 단어 출력하기\n",
    "from nltk import FreqDist\n",
    "from nltk.tag import pos_tag\n",
    "stopwords = [\"Mr.\", \"Mrs.\", \"Miss\", \"Mr\", \"Mrs\", \"Dear\"]\n",
    "emma_tokens = pos_tag(retokenize.tokenize(emma_raw))\n",
    "names_list = [t[0] for t in emma_tokens if t[1] == \"NNP\" and t[0] not in stopwords]\n",
    "fd_names = FreqDist(names_list)\n",
    "# 전체 단어의 수, \"Emma\"라는 단어의 출현 횟수, 확률을 각각 계산\n",
    "print(fd_names.N(), fd_names[\"Emma\"], fd_names.freq(\"Emma\"))"
   ]
  },
  {
   "cell_type": "code",
   "execution_count": 15,
   "metadata": {},
   "outputs": [
    {
     "data": {
      "text/plain": [
       "[('Mr', 1149), ('Emma', 830), ('Mrs', 698), ('Miss', 577), ('Harriet', 491)]"
      ]
     },
     "execution_count": 15,
     "metadata": {},
     "output_type": "execute_result"
    }
   ],
   "source": [
    "# 가장 출현 횟수가 높은 단어 5개\n",
    "fd_names.most_common(5)"
   ]
  },
  {
   "cell_type": "code",
   "execution_count": null,
   "metadata": {},
   "outputs": [],
   "source": []
  }
 ],
 "metadata": {
  "kernelspec": {
   "display_name": "Python 3",
   "language": "python",
   "name": "python3"
  },
  "language_info": {
   "codemirror_mode": {
    "name": "ipython",
    "version": 3
   },
   "file_extension": ".py",
   "mimetype": "text/x-python",
   "name": "python",
   "nbconvert_exporter": "python",
   "pygments_lexer": "ipython3",
   "version": "3.5.4"
  }
 },
 "nbformat": 4,
 "nbformat_minor": 2
}

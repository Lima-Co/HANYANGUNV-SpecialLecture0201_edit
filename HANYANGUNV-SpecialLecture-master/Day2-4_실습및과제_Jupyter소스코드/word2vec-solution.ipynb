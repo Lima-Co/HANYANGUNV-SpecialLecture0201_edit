{
 "cells": [
  {
   "cell_type": "code",
   "execution_count": 1,
   "metadata": {},
   "outputs": [
    {
     "name": "stdout",
     "output_type": "stream",
     "text": [
      "Word2Vec(vocab=90, size=16, alpha=0.025)\n",
      "Saved Model\n"
     ]
    }
   ],
   "source": [
    "#[선택:한국어 model 트레이닝하기]\n",
    "from gensim.models import word2vec\n",
    "import multiprocessing\n",
    "\n",
    "sentences = word2vec.Text8Corpus(\"Full_nouns.txt\")\n",
    "model = word2vec.Word2Vec(sentences,size=16, window=5,\n",
    "                          min_count=5,sg=1, hs=1, iter=100,\n",
    "                          workers=multiprocessing.cpu_count())\n",
    "print (model)\n",
    "model.save(\"fullnoun.model\")\n",
    "print (\"Saved Model\")"
   ]
  },
  {
   "cell_type": "code",
   "execution_count": 2,
   "metadata": {},
   "outputs": [
    {
     "name": "stdout",
     "output_type": "stream",
     "text": [
      "Word2Vec(vocab=90, size=16, alpha=0.025)\n",
      "Model Loaded!\n",
      "\n",
      "\n",
      "[국민]와[대한민국]의 유사도는:\n",
      "0.5729075\n",
      "\n",
      "[국민]와 유사도가 높은 단어 5개:\n",
      "권리\n",
      "0.8860452771186829\n",
      "자유\n",
      "0.8412834405899048\n",
      "보호\n",
      "0.8260164260864258\n",
      "의무\n",
      "0.7952759861946106\n",
      "침해\n",
      "0.7948633432388306\n",
      "\n",
      "[대한민국]&[헌법]와 유사도가 높은 단어 5개:\n",
      "안전보장\n",
      "0.6927987337112427\n",
      "국가\n",
      "0.6693659424781799\n",
      "의무\n",
      "0.6486788392066956\n",
      "①\n",
      "0.6484060287475586\n",
      "노력\n",
      "0.6188378930091858\n"
     ]
    },
    {
     "name": "stderr",
     "output_type": "stream",
     "text": [
      "c:\\test\\lib\\site-packages\\ipykernel_launcher.py:19: DeprecationWarning: Call to deprecated `most_similar` (Method will be removed in 4.0.0, use self.wv.most_similar() instead).\n",
      "c:\\test\\lib\\site-packages\\ipykernel_launcher.py:28: DeprecationWarning: Call to deprecated `most_similar` (Method will be removed in 4.0.0, use self.wv.most_similar() instead).\n"
     ]
    }
   ],
   "source": [
    "#[선택:한국어 model 유사도 구하기]\n",
    "\n",
    "# Load trained model\n",
    "model =word2vec.Word2Vec.load('fullnoun.model')\n",
    "print (model)\n",
    "print (\"Model Loaded!\\n\")\n",
    "\n",
    "\n",
    "# 【두개 키워드의 유사도 계산하기】\n",
    "try:\n",
    "    y1 = model.wv.similarity(u\"국민\", u\"대한민국\")\n",
    "except KeyError:\n",
    "    y1 = 0\n",
    "print(u\"\\n[국민]와[대한민국]의 유사도는:\")\n",
    "print(y1)\n",
    "\n",
    "\n",
    "# 【키워드와 유사도가 제일 높은 5개 단어】\n",
    "y2 = model.most_similar(u\"국민\", topn=5)\n",
    "print(u\"\\n[국민]와 유사도가 높은 단어 5개:\")\n",
    "\n",
    "for item in y2:\n",
    "    print(item[0])\n",
    "    print(item[1])\n",
    "\n",
    "\n",
    "# 【두개 키워드와 유사도가 제일 높은 5개 단어】\n",
    "y3 = model.most_similar(['대한민국', '헌법'], topn=5)\n",
    "print(u\"\\n[대한민국]&[헌법]와 유사도가 높은 단어 5개:\")\n",
    "for item in y3:\n",
    "    print(item[0])\n",
    "    print(item[1])"
   ]
  },
  {
   "cell_type": "code",
   "execution_count": null,
   "metadata": {},
   "outputs": [],
   "source": []
  }
 ],
 "metadata": {
  "kernelspec": {
   "display_name": "Python 3",
   "language": "python",
   "name": "python3"
  },
  "language_info": {
   "codemirror_mode": {
    "name": "ipython",
    "version": 3
   },
   "file_extension": ".py",
   "mimetype": "text/x-python",
   "name": "python",
   "nbconvert_exporter": "python",
   "pygments_lexer": "ipython3",
   "version": "3.5.4"
  }
 },
 "nbformat": 4,
 "nbformat_minor": 2
}
